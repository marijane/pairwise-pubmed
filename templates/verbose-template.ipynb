{
 "cells": [
  {
   "cell_type": "markdown",
   "metadata": {},
   "source": [
    "# Pairwise construction of PubMed search strings"
   ]
  },
  {
   "cell_type": "markdown",
   "metadata": {},
   "source": [
    "## About this Notebook Template\n",
    "\n",
    "### What is this?\n",
    "\n",
    "This notebook is a template that can be used to generate an **all-pairs** list of search strategies from two lists of terms. It can be used to create searches for MeSH term/subheading combinations and to combine keywords as phrases, proximity searches, or simple AND combinations.\n",
    "\n",
    "### Why?\n",
    "\n",
    "Generating a pairwise list of search strategies is a useful approach when you need to use a set of MeSH terms with a set of subheadings, and to convert a truncation/wildcard search in PubMed to a proximity search, especially when access to databases with different proximity search functionality is not available. Because proximity searching in PubMed is not yet compatible with truncation and wildcards, this often means variations on search terms must be fully spelled out, and this can involve a great deal of typing. This notebook does the hard work for you: simply enumerate the terms you wish to combine below and let the notebook generate all possible pairings as database-ready formatted search strings. It generates outputs that can be pasted directly into PubMed or into Excel for search documentation. \n",
    "\n",
    "### Where did this idea come from?\n",
    "\n",
    "The pairwise technique is inspired by the [all-pairs testing methodology](https://en.wikipedia.org/wiki/All-pairs_testing) from the field of software quality assurance."
   ]
  },
  {
   "cell_type": "markdown",
   "metadata": {},
   "source": [
    "## Imports and Constants"
   ]
  },
  {
   "cell_type": "code",
   "execution_count": 183,
   "metadata": {},
   "outputs": [],
   "source": [
    "from IPython.display import display, HTML\n",
    "\n",
    "pubmed_search_url = \"https://pubmed.ncbi.nlm.nih.gov/?term=\""
   ]
  },
  {
   "cell_type": "markdown",
   "metadata": {},
   "source": [
    "## Construct MeSH search strings"
   ]
  },
  {
   "cell_type": "markdown",
   "metadata": {},
   "source": [
    "\n",
    "### Enter Term Lists"
   ]
  },
  {
   "cell_type": "markdown",
   "metadata": {},
   "source": [
    "Create two files using the ['writefile' Jupyter Magic Command](https://ipython.readthedocs.io/en/stable/interactive/magics.html#cellmagic-writefile), one that contains a list of MeSH terms and one that contains a list of Subheadings, that you wish to create a list of pairwise combinations from.\n",
    " \n",
    "Place one term per row.\n",
    "\n",
    "Note: The script does not check whether a particular heading/subheading pairing is allowed in MeSH."
   ]
  },
  {
   "cell_type": "markdown",
   "metadata": {},
   "source": [
    "#### Enter MeSH Main Terms"
   ]
  },
  {
   "cell_type": "code",
   "execution_count": 184,
   "metadata": {},
   "outputs": [
    {
     "name": "stdout",
     "output_type": "stream",
     "text": [
      "Overwriting mesh-terms.txt\n"
     ]
    }
   ],
   "source": [
    "%%writefile mesh-terms.txt\n",
    "heading one\n",
    "heading two\n",
    "heading three\n",
    "heading four"
   ]
  },
  {
   "cell_type": "markdown",
   "metadata": {},
   "source": [
    "#### Enter MeSH Subheading Terms"
   ]
  },
  {
   "cell_type": "code",
   "execution_count": 185,
   "metadata": {},
   "outputs": [
    {
     "name": "stdout",
     "output_type": "stream",
     "text": [
      "Overwriting subheadings.txt\n"
     ]
    }
   ],
   "source": [
    "%%writefile subheadings.txt\n",
    "subheading one\n",
    "subheadding two\n",
    "subheading three"
   ]
  },
  {
   "cell_type": "markdown",
   "metadata": {},
   "source": [
    "### Construct MeSH Main Heading/Subheading Search String"
   ]
  },
  {
   "cell_type": "markdown",
   "metadata": {},
   "source": [
    "Read the contents of each file into a list"
   ]
  },
  {
   "cell_type": "code",
   "execution_count": 186,
   "metadata": {},
   "outputs": [],
   "source": [
    "with open(\"mesh-terms.txt\") as f:\n",
    "    mesh_terms = f.read().splitlines()\n",
    "\n",
    "with open(\"subheadings.txt\") as f:\n",
    "    subheadings = f.read().splitlines()"
   ]
  },
  {
   "cell_type": "markdown",
   "metadata": {},
   "source": [
    "Create a list of pairwise combinations of MeSH terms and Subheadings with appropriate PubMed syntax."
   ]
  },
  {
   "cell_type": "code",
   "execution_count": 187,
   "metadata": {},
   "outputs": [
    {
     "name": "stdout",
     "output_type": "stream",
     "text": [
      "heading one/subheading one[mh]\n",
      "heading one/subheadding two[mh]\n",
      "heading one/subheading three[mh]\n",
      "heading two/subheading one[mh]\n",
      "heading two/subheadding two[mh]\n",
      "heading two/subheading three[mh]\n",
      "heading three/subheading one[mh]\n",
      "heading three/subheadding two[mh]\n",
      "heading three/subheading three[mh]\n",
      "heading four/subheading one[mh]\n",
      "heading four/subheadding two[mh]\n",
      "heading four/subheading three[mh]\n"
     ]
    }
   ],
   "source": [
    "mesh_searches = [\n",
    "    mesh_term + \"/\" + subheading + \"[mh]\"\n",
    "    for mesh_term in mesh_terms\n",
    "    for subheading in subheadings\n",
    "]\n",
    "\n",
    "for mesh_search in mesh_searches:\n",
    "    print(mesh_search)"
   ]
  },
  {
   "cell_type": "markdown",
   "metadata": {},
   "source": [
    "Concatenate the search strings into a single search strategy with \" OR \".\n",
    "\n",
    "This string can be copied and pasted directly into PubMed's search box."
   ]
  },
  {
   "cell_type": "code",
   "execution_count": 188,
   "metadata": {},
   "outputs": [
    {
     "name": "stdout",
     "output_type": "stream",
     "text": [
      "heading one/subheading one[mh] OR heading one/subheadding two[mh] OR heading one/subheading three[mh] OR heading two/subheading one[mh] OR heading two/subheadding two[mh] OR heading two/subheading three[mh] OR heading three/subheading one[mh] OR heading three/subheadding two[mh] OR heading three/subheading three[mh] OR heading four/subheading one[mh] OR heading four/subheadding two[mh] OR heading four/subheading three[mh]\n"
     ]
    }
   ],
   "source": [
    "mesh_search_string = \" OR \".join(mesh_searches)\n",
    "\n",
    "print(mesh_search_string)"
   ]
  },
  {
   "cell_type": "markdown",
   "metadata": {},
   "source": [
    "### Link to launch search"
   ]
  },
  {
   "cell_type": "code",
   "execution_count": 189,
   "metadata": {},
   "outputs": [
    {
     "data": {
      "text/html": [
       "<a href=\"https://pubmed.ncbi.nlm.nih.gov/?term=heading+one/subheading+one[mh]+OR+heading+one/subheadding+two[mh]+OR+heading+one/subheading+three[mh]+OR+heading+two/subheading+one[mh]+OR+heading+two/subheadding+two[mh]+OR+heading+two/subheading+three[mh]+OR+heading+three/subheading+one[mh]+OR+heading+three/subheadding+two[mh]+OR+heading+three/subheading+three[mh]+OR+heading+four/subheading+one[mh]+OR+heading+four/subheadding+two[mh]+OR+heading+four/subheading+three[mh]\">Search PubMed with MeSH heading/subheading search string</a>"
      ],
      "text/plain": [
       "<IPython.core.display.HTML object>"
      ]
     },
     "metadata": {},
     "output_type": "display_data"
    }
   ],
   "source": [
    "display(\n",
    "    HTML(\n",
    "        f'<a href=\"{pubmed_search_url + mesh_search_string.replace(\" \", \"+\")}\">Search PubMed with MeSH heading/subheading search string</a>'\n",
    "    )\n",
    ")"
   ]
  },
  {
   "cell_type": "markdown",
   "metadata": {},
   "source": [
    "## Construct keyword proximity search strings"
   ]
  },
  {
   "cell_type": "markdown",
   "metadata": {},
   "source": [
    "### Enter Term Lists"
   ]
  },
  {
   "cell_type": "markdown",
   "metadata": {},
   "source": [
    "Create two files, one for each list of concepts you want to combine in a proximity search."
   ]
  },
  {
   "cell_type": "markdown",
   "metadata": {},
   "source": [
    "#### Enter term list for first topic"
   ]
  },
  {
   "cell_type": "code",
   "execution_count": 190,
   "metadata": {},
   "outputs": [
    {
     "name": "stdout",
     "output_type": "stream",
     "text": [
      "Overwriting topic1-keywords-proximity.txt\n"
     ]
    }
   ],
   "source": [
    "%%writefile topic1-keywords-proximity.txt\n",
    "one\n",
    "ones\n",
    "two\n",
    "twos\n",
    "three\n",
    "threes"
   ]
  },
  {
   "cell_type": "markdown",
   "metadata": {},
   "source": [
    "#### Enter term list for second topic"
   ]
  },
  {
   "cell_type": "code",
   "execution_count": 191,
   "metadata": {},
   "outputs": [
    {
     "name": "stdout",
     "output_type": "stream",
     "text": [
      "Overwriting topic2-keywords-proximity.txt\n"
     ]
    }
   ],
   "source": [
    "%%writefile topic2-keywords-proximity.txt\n",
    "four\n",
    "fours\n",
    "five\n",
    "fives\n",
    "six\n",
    "sixes"
   ]
  },
  {
   "cell_type": "markdown",
   "metadata": {},
   "source": [
    "#### Specify search field"
   ]
  },
  {
   "cell_type": "code",
   "execution_count": 192,
   "metadata": {},
   "outputs": [],
   "source": [
    "proximity_field = \"tiab\""
   ]
  },
  {
   "cell_type": "markdown",
   "metadata": {},
   "source": [
    "#### Specify proximity distance"
   ]
  },
  {
   "cell_type": "code",
   "execution_count": 193,
   "metadata": {},
   "outputs": [],
   "source": [
    "proximity_distance = 2"
   ]
  },
  {
   "cell_type": "markdown",
   "metadata": {},
   "source": [
    "### Construct keyword proximity search string"
   ]
  },
  {
   "cell_type": "markdown",
   "metadata": {},
   "source": [
    "Read the contents of each file into a list"
   ]
  },
  {
   "cell_type": "code",
   "execution_count": 220,
   "metadata": {},
   "outputs": [],
   "source": [
    "with open(\"topic1-keywords-proximity.txt\") as f:\n",
    "    topic1_terms = f.read().splitlines()\n",
    "\n",
    "with open(\"topic2-keywords-proximity.txt\") as f:\n",
    "    topic2_terms = f.read().splitlines()"
   ]
  },
  {
   "cell_type": "markdown",
   "metadata": {},
   "source": [
    "Create a list of pairwise combinations of terms in each list in appropriate PubMed syntax."
   ]
  },
  {
   "cell_type": "code",
   "execution_count": 216,
   "metadata": {},
   "outputs": [
    {
     "name": "stdout",
     "output_type": "stream",
     "text": [
      "\"one four\"[tiab:~2]\n",
      "\"one fours\"[tiab:~2]\n",
      "\"one five\"[tiab:~2]\n",
      "\"one fives\"[tiab:~2]\n",
      "\"one six\"[tiab:~2]\n",
      "\"one sixes\"[tiab:~2]\n",
      "\"ones four\"[tiab:~2]\n",
      "\"ones fours\"[tiab:~2]\n",
      "\"ones five\"[tiab:~2]\n",
      "\"ones fives\"[tiab:~2]\n",
      "\"ones six\"[tiab:~2]\n",
      "\"ones sixes\"[tiab:~2]\n",
      "\"two four\"[tiab:~2]\n",
      "\"two fours\"[tiab:~2]\n",
      "\"two five\"[tiab:~2]\n",
      "\"two fives\"[tiab:~2]\n",
      "\"two six\"[tiab:~2]\n",
      "\"two sixes\"[tiab:~2]\n",
      "\"twos four\"[tiab:~2]\n",
      "\"twos fours\"[tiab:~2]\n",
      "\"twos five\"[tiab:~2]\n",
      "\"twos fives\"[tiab:~2]\n",
      "\"twos six\"[tiab:~2]\n",
      "\"twos sixes\"[tiab:~2]\n",
      "\"three four\"[tiab:~2]\n",
      "\"three fours\"[tiab:~2]\n",
      "\"three five\"[tiab:~2]\n",
      "\"three fives\"[tiab:~2]\n",
      "\"three six\"[tiab:~2]\n",
      "\"three sixes\"[tiab:~2]\n",
      "\"threes four\"[tiab:~2]\n",
      "\"threes fours\"[tiab:~2]\n",
      "\"threes five\"[tiab:~2]\n",
      "\"threes fives\"[tiab:~2]\n",
      "\"threes six\"[tiab:~2]\n",
      "\"threes sixes\"[tiab:~2]\n"
     ]
    }
   ],
   "source": [
    "keyword_proximity_searches_pm = [\n",
    "    f'\"{topic1_term} {topic2_term}\"[{proximity_field}:~{proximity_distance}]'\n",
    "    for topic1_term in topic1_terms\n",
    "    for topic2_term in topic2_terms\n",
    "]\n",
    "for keyword_search in keyword_proximity_searches_pm:\n",
    "    print(keyword_search)"
   ]
  },
  {
   "cell_type": "code",
   "execution_count": 217,
   "metadata": {},
   "outputs": [
    {
     "name": "stdout",
     "output_type": "stream",
     "text": [
      "\"one four\"[tiab:~2] OR \"one fours\"[tiab:~2] OR \"one five\"[tiab:~2] OR \"one fives\"[tiab:~2] OR \"one six\"[tiab:~2] OR \"one sixes\"[tiab:~2] OR \"ones four\"[tiab:~2] OR \"ones fours\"[tiab:~2] OR \"ones five\"[tiab:~2] OR \"ones fives\"[tiab:~2] OR \"ones six\"[tiab:~2] OR \"ones sixes\"[tiab:~2] OR \"two four\"[tiab:~2] OR \"two fours\"[tiab:~2] OR \"two five\"[tiab:~2] OR \"two fives\"[tiab:~2] OR \"two six\"[tiab:~2] OR \"two sixes\"[tiab:~2] OR \"twos four\"[tiab:~2] OR \"twos fours\"[tiab:~2] OR \"twos five\"[tiab:~2] OR \"twos fives\"[tiab:~2] OR \"twos six\"[tiab:~2] OR \"twos sixes\"[tiab:~2] OR \"three four\"[tiab:~2] OR \"three fours\"[tiab:~2] OR \"three five\"[tiab:~2] OR \"three fives\"[tiab:~2] OR \"three six\"[tiab:~2] OR \"three sixes\"[tiab:~2] OR \"threes four\"[tiab:~2] OR \"threes fours\"[tiab:~2] OR \"threes five\"[tiab:~2] OR \"threes fives\"[tiab:~2] OR \"threes six\"[tiab:~2] OR \"threes sixes\"[tiab:~2]\n"
     ]
    }
   ],
   "source": [
    "keyword_proximity_search_string = \" OR \".join(keyword_proximity_searches_pm)\n",
    "\n",
    "print(keyword_proximity_search_string)"
   ]
  },
  {
   "cell_type": "markdown",
   "metadata": {},
   "source": [
    "### Link to launch search"
   ]
  },
  {
   "cell_type": "code",
   "execution_count": 218,
   "metadata": {},
   "outputs": [
    {
     "data": {
      "text/html": [
       "<a href=\"https://pubmed.ncbi.nlm.nih.gov/?term=\"one+four\"[tiab:~2]+OR+\"one+fours\"[tiab:~2]+OR+\"one+five\"[tiab:~2]+OR+\"one+fives\"[tiab:~2]+OR+\"one+six\"[tiab:~2]+OR+\"one+sixes\"[tiab:~2]+OR+\"ones+four\"[tiab:~2]+OR+\"ones+fours\"[tiab:~2]+OR+\"ones+five\"[tiab:~2]+OR+\"ones+fives\"[tiab:~2]+OR+\"ones+six\"[tiab:~2]+OR+\"ones+sixes\"[tiab:~2]+OR+\"two+four\"[tiab:~2]+OR+\"two+fours\"[tiab:~2]+OR+\"two+five\"[tiab:~2]+OR+\"two+fives\"[tiab:~2]+OR+\"two+six\"[tiab:~2]+OR+\"two+sixes\"[tiab:~2]+OR+\"twos+four\"[tiab:~2]+OR+\"twos+fours\"[tiab:~2]+OR+\"twos+five\"[tiab:~2]+OR+\"twos+fives\"[tiab:~2]+OR+\"twos+six\"[tiab:~2]+OR+\"twos+sixes\"[tiab:~2]+OR+\"three+four\"[tiab:~2]+OR+\"three+fours\"[tiab:~2]+OR+\"three+five\"[tiab:~2]+OR+\"three+fives\"[tiab:~2]+OR+\"three+six\"[tiab:~2]+OR+\"three+sixes\"[tiab:~2]+OR+\"threes+four\"[tiab:~2]+OR+\"threes+fours\"[tiab:~2]+OR+\"threes+five\"[tiab:~2]+OR+\"threes+fives\"[tiab:~2]+OR+\"threes+six\"[tiab:~2]+OR+\"threes+sixes\"[tiab:~2]\">Search PubMed with keyword proximity search string</a>"
      ],
      "text/plain": [
       "<IPython.core.display.HTML object>"
      ]
     },
     "metadata": {},
     "output_type": "display_data"
    }
   ],
   "source": [
    "display(\n",
    "    HTML(\n",
    "        f'<a href=\"{pubmed_search_url + keyword_proximity_search_string.replace(\" \", \"+\")}\">Search PubMed with keyword proximity search string</a>'\n",
    "    )\n",
    ")"
   ]
  },
  {
   "cell_type": "markdown",
   "metadata": {},
   "source": [
    "### Proximity search for Excel\n",
    "\n",
    "The output from this cell can be used to create line-by-line search documentation in an Excel spreadsheet.\n",
    "\n",
    "Excel will strip out quotes if we try to format them the PubMed way, so it has extras."
   ]
  },
  {
   "cell_type": "code",
   "execution_count": 219,
   "metadata": {},
   "outputs": [
    {
     "name": "stdout",
     "output_type": "stream",
     "text": [
      "\"\"\"one four\"\"[tiab:~2]\n",
      "\"\"\"one fours\"\"[tiab:~2]\n",
      "\"\"\"one five\"\"[tiab:~2]\n",
      "\"\"\"one fives\"\"[tiab:~2]\n",
      "\"\"\"one six\"\"[tiab:~2]\n",
      "\"\"\"one sixes\"\"[tiab:~2]\n",
      "\"\"\"ones four\"\"[tiab:~2]\n",
      "\"\"\"ones fours\"\"[tiab:~2]\n",
      "\"\"\"ones five\"\"[tiab:~2]\n",
      "\"\"\"ones fives\"\"[tiab:~2]\n",
      "\"\"\"ones six\"\"[tiab:~2]\n",
      "\"\"\"ones sixes\"\"[tiab:~2]\n",
      "\"\"\"two four\"\"[tiab:~2]\n",
      "\"\"\"two fours\"\"[tiab:~2]\n",
      "\"\"\"two five\"\"[tiab:~2]\n",
      "\"\"\"two fives\"\"[tiab:~2]\n",
      "\"\"\"two six\"\"[tiab:~2]\n",
      "\"\"\"two sixes\"\"[tiab:~2]\n",
      "\"\"\"twos four\"\"[tiab:~2]\n",
      "\"\"\"twos fours\"\"[tiab:~2]\n",
      "\"\"\"twos five\"\"[tiab:~2]\n",
      "\"\"\"twos fives\"\"[tiab:~2]\n",
      "\"\"\"twos six\"\"[tiab:~2]\n",
      "\"\"\"twos sixes\"\"[tiab:~2]\n",
      "\"\"\"three four\"\"[tiab:~2]\n",
      "\"\"\"three fours\"\"[tiab:~2]\n",
      "\"\"\"three five\"\"[tiab:~2]\n",
      "\"\"\"three fives\"\"[tiab:~2]\n",
      "\"\"\"three six\"\"[tiab:~2]\n",
      "\"\"\"three sixes\"\"[tiab:~2]\n",
      "\"\"\"threes four\"\"[tiab:~2]\n",
      "\"\"\"threes fours\"\"[tiab:~2]\n",
      "\"\"\"threes five\"\"[tiab:~2]\n",
      "\"\"\"threes fives\"\"[tiab:~2]\n",
      "\"\"\"threes six\"\"[tiab:~2]\n",
      "\"\"\"threes sixes\"\"[tiab:~2]\n"
     ]
    }
   ],
   "source": [
    "keyword_proximity_searches_xls = [\n",
    "    f'\"\"\"{topic1_term} {topic2_term}\"\"[tiab:~{proximity_distance}]'\n",
    "    for topic1_term in topic1_terms\n",
    "    for topic2_term in topic2_terms\n",
    "]\n",
    "\n",
    "for keyword_search in keyword_proximity_searches_xls:\n",
    "    print(keyword_search)"
   ]
  },
  {
   "cell_type": "markdown",
   "metadata": {},
   "source": [
    "## Construct keyword intersection search strings (Boolean AND)"
   ]
  },
  {
   "cell_type": "markdown",
   "metadata": {},
   "source": [
    "### Enter Term Lists"
   ]
  },
  {
   "cell_type": "markdown",
   "metadata": {},
   "source": [
    "#### Enter term list for first topic"
   ]
  },
  {
   "cell_type": "code",
   "execution_count": 199,
   "metadata": {},
   "outputs": [
    {
     "name": "stdout",
     "output_type": "stream",
     "text": [
      "Overwriting topic1-keywords-intersection.txt\n"
     ]
    }
   ],
   "source": [
    "%%writefile topic1-keywords-intersection.txt\n",
    "first*\n",
    "second*\n",
    "third*"
   ]
  },
  {
   "cell_type": "markdown",
   "metadata": {},
   "source": [
    "#### Enter term list for second topic"
   ]
  },
  {
   "cell_type": "code",
   "execution_count": 200,
   "metadata": {},
   "outputs": [
    {
     "name": "stdout",
     "output_type": "stream",
     "text": [
      "Overwriting topic2-keywords-intersection.txt\n"
     ]
    }
   ],
   "source": [
    "%%writefile topic2-keywords-intersection.txt\n",
    "fourth*\n",
    "fifth*\n",
    "sixth*"
   ]
  },
  {
   "cell_type": "code",
   "execution_count": 201,
   "metadata": {},
   "outputs": [],
   "source": [
    "with open(\"topic1-keywords-intersection.txt\") as f:\n",
    "    topic1_terms = f.read().splitlines()\n",
    "\n",
    "with open(\"topic2-keywords-intersection.txt\") as f:\n",
    "    topic2_terms = f.read().splitlines()"
   ]
  },
  {
   "cell_type": "code",
   "execution_count": null,
   "metadata": {},
   "outputs": [],
   "source": []
  },
  {
   "cell_type": "code",
   "execution_count": 202,
   "metadata": {},
   "outputs": [
    {
     "name": "stdout",
     "output_type": "stream",
     "text": [
      "(first* AND fourth*)\n",
      "(first* AND fifth*)\n",
      "(first* AND sixth*)\n",
      "(second* AND fourth*)\n",
      "(second* AND fifth*)\n",
      "(second* AND sixth*)\n",
      "(third* AND fourth*)\n",
      "(third* AND fifth*)\n",
      "(third* AND sixth*)\n"
     ]
    }
   ],
   "source": [
    "keyword_intersection_searches = [\n",
    "    \"(\" + topic1_term + \" AND \" + topic2_term + \")\"\n",
    "    for topic1_term in topic1_terms\n",
    "    for topic2_term in topic2_terms\n",
    "]\n",
    "\n",
    "for keyword_search in keyword_intersection_searches:\n",
    "    print(keyword_search)"
   ]
  },
  {
   "cell_type": "code",
   "execution_count": 203,
   "metadata": {},
   "outputs": [
    {
     "name": "stdout",
     "output_type": "stream",
     "text": [
      "(first* AND fourth*) OR (first* AND fifth*) OR (first* AND sixth*) OR (second* AND fourth*) OR (second* AND fifth*) OR (second* AND sixth*) OR (third* AND fourth*) OR (third* AND fifth*) OR (third* AND sixth*)\n"
     ]
    }
   ],
   "source": [
    "keyword_intersection_search_string = \" OR \".join(keyword_intersection_searches)\n",
    "\n",
    "print(keyword_intersection_search_string)"
   ]
  },
  {
   "cell_type": "markdown",
   "metadata": {},
   "source": [
    "Link to launch search"
   ]
  },
  {
   "cell_type": "code",
   "execution_count": 204,
   "metadata": {},
   "outputs": [
    {
     "data": {
      "text/html": [
       "<a href=\"https://pubmed.ncbi.nlm.nih.gov/?term=(first*+AND+fourth*)+OR+(first*+AND+fifth*)+OR+(first*+AND+sixth*)+OR+(second*+AND+fourth*)+OR+(second*+AND+fifth*)+OR+(second*+AND+sixth*)+OR+(third*+AND+fourth*)+OR+(third*+AND+fifth*)+OR+(third*+AND+sixth*)\">Search PubMed with keyword intersection search string</a>"
      ],
      "text/plain": [
       "<IPython.core.display.HTML object>"
      ]
     },
     "metadata": {},
     "output_type": "display_data"
    }
   ],
   "source": [
    "display(\n",
    "    HTML(\n",
    "        f'<a href=\"{pubmed_search_url + keyword_intersection_search_string.replace(\" \", \"+\")}\">Search PubMed with keyword intersection search string</a>'\n",
    "    )\n",
    ")"
   ]
  }
 ],
 "metadata": {
  "kernelspec": {
   "display_name": ".pp_venv",
   "language": "python",
   "name": "python3"
  },
  "language_info": {
   "codemirror_mode": {
    "name": "ipython",
    "version": 3
   },
   "file_extension": ".py",
   "mimetype": "text/x-python",
   "name": "python",
   "nbconvert_exporter": "python",
   "pygments_lexer": "ipython3",
   "version": "3.12.2"
  }
 },
 "nbformat": 4,
 "nbformat_minor": 2
}
